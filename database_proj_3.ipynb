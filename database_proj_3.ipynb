{
 "cells": [
  {
   "cell_type": "markdown",
   "metadata": {},
   "source": [
    "Script for database project 3. "
   ]
  },
  {
   "cell_type": "code",
   "execution_count": 1,
   "metadata": {},
   "outputs": [],
   "source": [
    "import pymysql \n",
    "import getpass\n",
    "from IPython.display import clear_output\n",
    "import datetime"
   ]
  },
  {
   "cell_type": "code",
   "execution_count": 2,
   "metadata": {},
   "outputs": [],
   "source": [
    "class STUDENT:\n",
    "    def __init__(self,ID,Name,Password,Address):\n",
    "        self.ID = ID\n",
    "        self.Name = Name\n",
    "        self.Password = Password\n",
    "        self.Address = Address\n",
    "        \n",
    "    def info(self):\n",
    "        return (self.ID,self.Name,self.Password,self.Address)"
   ]
  },
  {
   "cell_type": "code",
   "execution_count": 3,
   "metadata": {},
   "outputs": [
    {
     "name": "stdout",
     "output_type": "stream",
     "text": [
      ">DATABASE  project3-nudb is open!!!\n"
     ]
    }
   ],
   "source": [
    "def CheckDatabaseOpen(dbname):\n",
    "    mydb = pymysql.connect(\"localhost\",\"root\",\"password\")\n",
    "    mycursor = mydb.cursor()\n",
    "    mycursor.execute(\"SHOW DATABASES\")\n",
    "    for name in mycursor:\n",
    "#         print(name)\n",
    "        if name[0] == dbname:\n",
    "            mydb.close()\n",
    "            print(\">DATABASE \",dbname, \"is open!!!\")\n",
    "            return\n",
    "    print(\">DATABASE \",dbname, \"is not open!!!\")\n",
    "    mydb.close()\n",
    "    return\n",
    "\n",
    "dbname = 'project3-nudb'\n",
    "CheckDatabaseOpen(dbname)"
   ]
  },
  {
   "cell_type": "code",
   "execution_count": 4,
   "metadata": {},
   "outputs": [],
   "source": [
    "def Login():\n",
    "    while(1):\n",
    "        print(\"please enter your user name:\")\n",
    "        usr = input()\n",
    "        pwd = getpass.getpass(prompt='Password: ')\n",
    "        if mycursor.execute('select * from student where Name = %s and Password = %s',(usr,pwd)) > 0:\n",
    "            stu_info = mycursor.fetchone()\n",
    "            my_stu = STUDENT(*stu_info)\n",
    "            clear_output()\n",
    "            print('welcome to your student menu, %s' % usr)\n",
    "            return my_stu\n",
    "        else:\n",
    "            clear_output()\n",
    "            print(\"user name not exist or passowrd not correct!\")\n"
   ]
  },
  {
   "cell_type": "code",
   "execution_count": null,
   "metadata": {},
   "outputs": [],
   "source": [
    "def LoadStudentMenu()"
   ]
  },
  {
   "cell_type": "code",
   "execution_count": 5,
   "metadata": {},
   "outputs": [],
   "source": [
    "mydb = pymysql.connect(\"localhost\",\"root\",\"password\",\"project3-nudb\")\n",
    "mycursor = mydb.cursor()"
   ]
  },
  {
   "cell_type": "code",
   "execution_count": null,
   "metadata": {},
   "outputs": [
    {
     "name": "stdout",
     "output_type": "stream",
     "text": [
      "user name not exist or passowrd not correct!\n",
      "please enter your user name:\n"
     ]
    }
   ],
   "source": [
    "my_stu =Login()"
   ]
  },
  {
   "cell_type": "code",
   "execution_count": null,
   "metadata": {},
   "outputs": [],
   "source": [
    "now = datetime.datetime.now()\n",
    "print(now.year,now.month)"
   ]
  },
  {
   "cell_type": "code",
   "execution_count": null,
   "metadata": {},
   "outputs": [],
   "source": [
    "mycursor.execute('select * from student, transcript where student.id = transcript.Studid and Semester = \"Q1\" AND Year=\"2018\" and Grade is NULL')\n",
    "for x in mycursor:\n",
    "    print(x)"
   ]
  },
  {
   "cell_type": "code",
   "execution_count": null,
   "metadata": {},
   "outputs": [],
   "source": [
    "len(x)\n",
    "print(x)"
   ]
  },
  {
   "cell_type": "code",
   "execution_count": null,
   "metadata": {},
   "outputs": [],
   "source": [
    "print(user_name)"
   ]
  },
  {
   "cell_type": "code",
   "execution_count": null,
   "metadata": {},
   "outputs": [],
   "source": []
  },
  {
   "cell_type": "code",
   "execution_count": null,
   "metadata": {},
   "outputs": [],
   "source": [
    "import getpass\n",
    "user = getpass.getuser()\n",
    "username = getpass.getpass('Username: %s' % user)\n",
    "pwd = getpass.getpass(prompt='Password: ')"
   ]
  },
  {
   "cell_type": "code",
   "execution_count": null,
   "metadata": {},
   "outputs": [],
   "source": []
  }
 ],
 "metadata": {
  "kernelspec": {
   "display_name": "Python 3",
   "language": "python",
   "name": "python3"
  },
  "language_info": {
   "codemirror_mode": {
    "name": "ipython",
    "version": 3
   },
   "file_extension": ".py",
   "mimetype": "text/x-python",
   "name": "python",
   "nbconvert_exporter": "python",
   "pygments_lexer": "ipython3",
   "version": "3.6.4"
  }
 },
 "nbformat": 4,
 "nbformat_minor": 2
}
