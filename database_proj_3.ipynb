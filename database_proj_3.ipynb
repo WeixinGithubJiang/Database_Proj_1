{
 "cells": [
  {
   "cell_type": "markdown",
   "metadata": {},
   "source": [
    "Script for database project 3. "
   ]
  },
  {
   "cell_type": "code",
   "execution_count": 1,
   "metadata": {},
   "outputs": [],
   "source": [
    "import pymysql \n",
    "import getpass\n",
    "from IPython.display import clear_output\n",
    "import datetime"
   ]
  },
  {
   "cell_type": "code",
   "execution_count": 2,
   "metadata": {
    "collapsed": true
   },
   "outputs": [],
   "source": [
    "class STUDENT:\n",
    "    def __init__(self,ID,Name,Password,Address):\n",
    "        self.ID = ID\n",
    "        self.Name = Name\n",
    "        self.Password = Password\n",
    "        self.Address = Address\n",
    "        \n",
    "    def info(self):\n",
    "        return (self.ID,self.Name,self.Password,self.Address)"
   ]
  },
  {
   "cell_type": "code",
   "execution_count": 3,
   "metadata": {},
   "outputs": [],
   "source": [
    "def CheckDatabaseOpen(dbname):\n",
    "    mydb = pymysql.connect(\"localhost\",\"root\",\"password\")\n",
    "    mycursor = mydb.cursor()\n",
    "    mycursor.execute(\"SHOW DATABASES\")\n",
    "    DATABASE_EXIST = False\n",
    "    for name in mycursor:\n",
    "        if name[0] == dbname:\n",
    "            mydb.close()\n",
    "            DATABASE_EXIST = True\n",
    "            return\n",
    "    mydb.close()\n",
    "    assert DATABASE_EXIST, \"DATABASE does not exist!!!!\"\n",
    "    return"
   ]
  },
  {
   "cell_type": "code",
   "execution_count": 4,
   "metadata": {
    "collapsed": true
   },
   "outputs": [],
   "source": [
    "def Login(mycursor):\n",
    "    while(1):\n",
    "#         clear_output()\n",
    "#         print(\"please enter your user name:\")\n",
    "        usr = input(\"please enter your user name:\")\n",
    "        pwd = getpass.getpass(prompt='Password: ')\n",
    "        if mycursor.execute('select * from student where Name = %s and Password = %s',(usr,pwd)) > 0:\n",
    "            stu_info = mycursor.fetchone()\n",
    "            my_stu = STUDENT(*stu_info)\n",
    "            clear_output()\n",
    "            print('welcome to your student menu, %s' % usr)\n",
    "            return my_stu\n",
    "        else:\n",
    "            clear_output()\n",
    "            print(\"user name not exist or passowrd not correct!\")\n"
   ]
  },
  {
   "cell_type": "code",
   "execution_count": 5,
   "metadata": {},
   "outputs": [],
   "source": [
    "def EnrolledQuarter():\n",
    "    now = datetime.datetime.now()\n",
    "    if now.month in [9,10,11]:\n",
    "        return now.year, \"Q1\"\n",
    "    elif now.month in [12,1,2]:\n",
    "        return now.year, \"Q2\"\n",
    "    elif now.month in [3,4,5]:\n",
    "        return now.year, \"Q3\"\n",
    "    else:\n",
    "        return now.year, \"Q4\"\n",
    "\n",
    "def ShowStuMenu(mycursor,usr):\n",
    "    year,quar = EnrolledQuarter()\n",
    "    mycursor.execute('select transcript.UoSCode, unitofstudy.UoSName, \\\n",
    "                transcript.Year, transcript.Semester, unitofstudy.Credits\\\n",
    "                from student, transcript, unitofstudy\\\n",
    "                where student.id = transcript.Studid and \\\n",
    "                unitofstudy.UoSCode = transcript.UoSCode\\\n",
    "                and transcript.Semester = %s and transcript.Year=%s \\\n",
    "                and Grade is NULL and student.name = %s', (quar,year,usr) )\n",
    "#     mycursor.execute('select transcript.UoSCode, unitofstudy.UoSName,\\\n",
    "#                 transcript.Year, transcript.Semester, unitofstudy.Credits \\\n",
    "#                 from student, transcript, unitofstudy \\\n",
    "#                 where student.id = transcript.Studid and transcript.Semester = %s \\ \n",
    "#                 and transcript.Year=%s and Grade is NULL  and \\\n",
    "#                 unitofstudy.UoSCode = transcript.UoSCode \\\n",
    "#                 and student.name = %s', (quar,year,usr) )\n",
    "    clear_output()\n",
    "    result = mycursor.fetchall()\n",
    "    print(\"%s is currently taking %d courses:\" % (usr,len(result)))\n",
    "#     print(\"Course NO \\t Course Name \\t Year \\t Semester \\t Credits \\t Grade\")\n",
    "    for x in result:\n",
    "        print(x[0],\"\\t\",x[1].ljust(40),x[2],\"\\t\",x[3],\"\\t\",x[4])"
   ]
  },
  {
   "cell_type": "code",
   "execution_count": 6,
   "metadata": {
    "collapsed": true
   },
   "outputs": [],
   "source": [
    "def WaitForNext(current_state = 'login'):\n",
    "    print('************************************************')\n",
    "    if current_state == 'login':\n",
    "        print('Input your option: \\n Transcript \\n Enroll \\n Withdraw \\n Personal Details \\n Logout')\n",
    "    elif current_state == 'Transcript':\n",
    "        print('Input your option: \\n Details \\n Back')\n",
    "    elif current_state == 'Details':\n",
    "        print('Input your option: \\n Back')\n",
    "    elif current_state == 'Personal Details':\n",
    "        print('Input your option: \\n Edit \\n Back')\n",
    "    option = input()\n",
    "    return option\n",
    "    "
   ]
  },
  {
   "cell_type": "code",
   "execution_count": 7,
   "metadata": {
    "collapsed": true
   },
   "outputs": [],
   "source": [
    "def ShowTranscript(mycursor,usr):\n",
    "    mycursor.execute('select transcript.UoSCode, unitofstudy.UoSName, \\\n",
    "                transcript.Year, transcript.Semester, unitofstudy.Credits,\\\n",
    "                transcript.Grade\\\n",
    "                from student, transcript, unitofstudy\\\n",
    "                where student.id = transcript.Studid and \\\n",
    "                unitofstudy.UoSCode = transcript.UoSCode\\\n",
    "                and student.name = %s\\\n",
    "                order by transcript.Year', (usr) )\n",
    "    clear_output()\n",
    "    result = mycursor.fetchall()\n",
    "    print(\"%s's transcript is shown below \" % (usr))\n",
    "#     print(\"Course NO \\t Course Name \\t Year \\t Semester \\t Credits \\t Grade\")\n",
    "    for x in result:\n",
    "        print(x[0],\"\\t\",x[1].ljust(40),x[2],\"\\t\",x[3],\"\\t\",x[4],\"\\t\",x[5])"
   ]
  },
  {
   "cell_type": "code",
   "execution_count": 8,
   "metadata": {},
   "outputs": [],
   "source": [
    "def ShowCourseDetails(mycursor,usr):\n",
    "#     print(\"Please input the course number:\")\n",
    "    course_num = input(\"Please input the course number:\")\n",
    "    mycursor.execute('select transcript.UoSCode, unitofstudy.UoSName,\\\n",
    "            transcript.Year, transcript.Semester, \\\n",
    "            uosoffering.Enrollment,  uosoffering.MaxEnrollment, \\\n",
    "            faculty.Name, transcript.Grade\\\n",
    "            from  unitofstudy, uosoffering, faculty, student, transcript\\\n",
    "            where faculty.Id = uosoffering.InstructorId and \\\n",
    "            transcript.UoSCode = unitofstudy.UoSCode \\\n",
    "            and unitofstudy.UoSCode = uosoffering.UoSCode and \\\n",
    "            uosoffering.Year = transcript.Year \\\n",
    "            and uosoffering.Semester = transcript.Semester and \\\n",
    "            student.id = transcript.Studid and \\\n",
    "            student.name = %s and transcript.UoSCode = %s', (usr,course_num) )\n",
    "#     clear_output()\n",
    "    result = mycursor.fetchall()\n",
    "    if len(result):\n",
    "        clear_output()\n",
    "        print(\"detailed transcript is shown below \")\n",
    "        for x in result:\n",
    "            print(\"\\nCourse NO.\",x[0], \"\\nCourse Name.\",x[1],\\\n",
    "                 \"\\nYear.\", x[2], \"\\nSemester.\",x[3], \"\\nEnrollment\",x[4],\\\n",
    "                 \"\\nMaxEnrollment.\",x[5],\"\\nInstructor Name.\",x[6], \"\\nGrade.\",x[7])\n",
    "    else:\n",
    "        print(\"wrong course number!!!\")"
   ]
  },
  {
   "cell_type": "code",
   "execution_count": 9,
   "metadata": {
    "collapsed": true
   },
   "outputs": [],
   "source": [
    "def ShowPersonalDetails(mycursor,usr):\n",
    "    mycursor.execute('select * from student where student.Name = %s', (usr))\n",
    "    result = mycursor.fetchall()\n",
    "    clear_output()\n",
    "    print(\"%s's personal details are shown below:\" % usr)\n",
    "    print(\"ID \\t NAME \\t\\t PASSWORD \\t ADDRESS\")\n",
    "    for x in result:\n",
    "        print(x[0],'\\t',x[1],'\\t',x[2],'\\t',x[3])"
   ]
  },
  {
   "cell_type": "code",
   "execution_count": 10,
   "metadata": {
    "collapsed": true
   },
   "outputs": [],
   "source": [
    "def EditPersonalDetails(mycursor,usr):\n",
    "    option = input(\"Input your option: \\n password \\n address\\n\")\n",
    "    new_content = input(\"Input your new content:\")\n",
    "    while new_content == \"\":\n",
    "        new_content = input(\"Content cannot be empty. Input your new content:\")\n",
    "    if option == \"password\":\n",
    "        mycursor.execute(\"\\\n",
    "                        Update student\\\n",
    "                        set student.Password = %s \\\n",
    "                        where student.Name = %s\" , (new_content,usr))\n",
    "    elif option == \"address\":\n",
    "        mycursor.execute(\"\\\n",
    "                        Update student\\\n",
    "                        set student.Address = %s \\\n",
    "                        where student.Name = %s\" , (new_content,usr))\n",
    "    else:\n",
    "        print(\"editing target is wrong1!!!\")"
   ]
  },
  {
   "cell_type": "code",
   "execution_count": null,
   "metadata": {},
   "outputs": [],
   "source": [
    "def main():\n",
    "    dbname = 'project3-nudb'\n",
    "    \n",
    "    CheckDatabaseOpen(dbname)\n",
    "    \n",
    "    mydb = pymysql.connect(\"localhost\",\"root\",\"password\",dbname)\n",
    "    mycursor = mydb.cursor()\n",
    "    \n",
    "    states = ['waitforlogin','login','Transcript','Details','Personal Details']\n",
    "    options = ['Transcript', 'Back']\n",
    "    \n",
    "    while(1):\n",
    "    \n",
    "        my_stu =Login(mycursor)\n",
    "        ShowStuMenu(mycursor,my_stu.Name)\n",
    "    \n",
    "        current_state = 'login'\n",
    "        option = WaitForNext(current_state)\n",
    "    \n",
    "        while option != \"Logout\": \n",
    "            VALID_OPTION = False\n",
    "            if option == \"Transcript\" and current_state =='login':\n",
    "                ShowTranscript(mycursor,my_stu.Name)\n",
    "                current_state = 'Transcript'\n",
    "                VALID_OPTION = True\n",
    "            if option == \"Back\" and current_state == 'Transcript':\n",
    "                ShowStuMenu(mycursor,my_stu.Name)\n",
    "                current_state = 'login'\n",
    "                VALID_OPTION = True\n",
    "            if option == \"Details\" and current_state == 'Transcript':\n",
    "                ShowCourseDetails(mycursor,my_stu.Name)\n",
    "                current_state = 'Details'\n",
    "                VALID_OPTION = True\n",
    "            if option == \"Back\" and current_state == 'Details':\n",
    "                ShowTranscript(mycursor,my_stu.Name)\n",
    "                current_state = 'Transcript'\n",
    "                VALID_OPTION = True\n",
    "            if option == \"Personal Details\" and current_state =='login':\n",
    "                ShowPersonalDetails(mycursor,my_stu.Name)\n",
    "                current_state = 'Personal Details'\n",
    "                VALID_OPTION = True\n",
    "            if option == \"Edit\" and current_state =='Personal Details':\n",
    "                EditPersonalDetails(mycursor,my_stu.Name)\n",
    "                mydb.commit()\n",
    "                ShowPersonalDetails(mycursor,my_stu.Name)\n",
    "                VALID_OPTION = True\n",
    "            if option == \"Back\" and current_state =='Personal Details':\n",
    "                ShowStuMenu(mycursor,my_stu.Name)\n",
    "                current_state = 'login'\n",
    "                VALID_OPTION = True\n",
    "            if not VALID_OPTION:\n",
    "                print(\"wrong option !!!!!\")\n",
    "            option = WaitForNext(current_state)\n",
    "                \n",
    "        del my_stu\n",
    "        clear_output()\n",
    "    mycursor.close()\n",
    "    mydb.close()"
   ]
  },
  {
   "cell_type": "code",
   "execution_count": null,
   "metadata": {
    "scrolled": false
   },
   "outputs": [
    {
     "name": "stdout",
     "output_type": "stream",
     "text": [
      "Linda Smith's personal details are shown below:\n",
      "ID \t NAME \t\t PASSWORD \t ADDRESS\n",
      "3213 \t Linda Smith \t lunch \t Cronulla\n",
      "************************************************\n",
      "Input your option: \n",
      " Edit \n",
      " Back\n"
     ]
    }
   ],
   "source": [
    "if __name__ == \"__main__\":\n",
    "    main()"
   ]
  },
  {
   "cell_type": "code",
   "execution_count": null,
   "metadata": {},
   "outputs": [],
   "source": [
    "# dbname = 'project3-nudb'\n",
    "# mydb = pymysql.connect(\"localhost\",\"root\",\"password\",dbname)\n",
    "# mycursor = mydb.cursor()\n",
    "# usr = \"Linda Smith\"\n",
    "# mycursor.execute('select transcript.UoSCode, unitofstudy.UoSName, \\\n",
    "#                 transcript.Year, transcript.Semester, unitofstudy.Credits,\\\n",
    "#                 transcript.Grade\\\n",
    "#                 from student, transcript, unitofstudy\\\n",
    "#                 where student.id = transcript.Studid and \\\n",
    "#                 unitofstudy.UoSCode = transcript.UoSCode\\\n",
    "#                 and student.name = %s\\\n",
    "#                 order by transcript.Year', (usr) )\n",
    "# result = mycursor.fetchall()\n",
    "# print(\"%s's transcript is shown below \" % (usr))\n",
    "# # print(\"Course NO \\t Course Name\".ljust(50) + \"\\t Year \\t Semester \\t Credits \\t Grade\")\n",
    "# for x in result:\n",
    "#     print(x[0],\"\\t\",x[1].ljust(40)+\"\\t\",x[2],\"\\t\",x[3],\"\\t\",x[4],\"\\t\",x[5])"
   ]
  }
 ],
 "metadata": {
  "kernelspec": {
   "display_name": "Python 3",
   "language": "python",
   "name": "python3"
  },
  "language_info": {
   "codemirror_mode": {
    "name": "ipython",
    "version": 3
   },
   "file_extension": ".py",
   "mimetype": "text/x-python",
   "name": "python",
   "nbconvert_exporter": "python",
   "pygments_lexer": "ipython3",
   "version": "3.6.2"
  }
 },
 "nbformat": 4,
 "nbformat_minor": 2
}
